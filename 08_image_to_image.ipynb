{
 "cells": [
  {
   "cell_type": "markdown",
   "id": "4cc6c875",
   "metadata": {},
   "source": [
    "Image-to-Image tasks apply when an application receives an image and outputs another image. This has various subtasks, including image enhancement (super resolution, low light enhancement, deraining and so on), image inpainting, and more.\n",
    "\n",
    "This guide will show you how to:\n",
    "1. Use an image-to-image pipeline for super resolution task,\n",
    "2. Run image-to-image models for same task without a pipeline.\n",
    "\n",
    "NB: image-to-image pipeline only supports super resolution task at the time of coding."
   ]
  },
  {
   "cell_type": "markdown",
   "id": "7853148c",
   "metadata": {},
   "source": [
    "# Libraries"
   ]
  },
  {
   "cell_type": "code",
   "execution_count": null,
   "id": "da2860d8",
   "metadata": {},
   "outputs": [],
   "source": [
    "pip install transformers"
   ]
  },
  {
   "cell_type": "code",
   "execution_count": null,
   "id": "569c2aee",
   "metadata": {},
   "outputs": [],
   "source": []
  }
 ],
 "metadata": {
  "kernelspec": {
   "display_name": "Python [conda env:nlp]",
   "language": "python",
   "name": "conda-env-nlp-py"
  },
  "language_info": {
   "codemirror_mode": {
    "name": "ipython",
    "version": 3
   },
   "file_extension": ".py",
   "mimetype": "text/x-python",
   "name": "python",
   "nbconvert_exporter": "python",
   "pygments_lexer": "ipython3",
   "version": "3.10.13"
  }
 },
 "nbformat": 4,
 "nbformat_minor": 5
}
