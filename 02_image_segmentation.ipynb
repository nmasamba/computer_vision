{
 "cells": [
  {
   "cell_type": "markdown",
   "id": "a19c7c54",
   "metadata": {},
   "source": [
    "Image segmentation models separate areas corresponding to different areas of interest in an image. These models work by assigning a label to each pixel. There are several types of segmentation: semantic segmentation, instance segmentation, and panoptic segmentation.\n",
    "\n",
    "In this guide, we will:\n",
    "\n",
    "1. Take a look at different types of segmentation.\n",
    "2. Have an end-to-end fine-tuning example for semantic segmentation."
   ]
  },
  {
   "cell_type": "markdown",
   "id": "83d6b6f6",
   "metadata": {},
   "source": [
    "# Libraries"
   ]
  },
  {
   "cell_type": "code",
   "execution_count": null,
   "id": "3a544fc8",
   "metadata": {},
   "outputs": [],
   "source": [
    "pip install -q datasets transformers evaluate accelerate"
   ]
  },
  {
   "cell_type": "code",
   "execution_count": null,
   "id": "92f07cc7",
   "metadata": {},
   "outputs": [],
   "source": [
    "\n",
    "import json\n",
    "import requests\n",
    "from PIL import Image\n",
    "from transformers import pipeline, AutoImageProcessor\n",
    "from datasets import load_dataset\n",
    "from huggingface_hub import cached_download, hf_hub_url"
   ]
  },
  {
   "cell_type": "markdown",
   "id": "27b35360",
   "metadata": {},
   "source": [
    "# Types of Segmentation"
   ]
  },
  {
   "cell_type": "markdown",
   "id": "f109d860",
   "metadata": {},
   "source": [
    "## Semantic Segmentation"
   ]
  },
  {
   "cell_type": "markdown",
   "id": "90b3960f",
   "metadata": {},
   "source": [
    "Semantic segmentation assigns a label or class to every single pixel in an image. If we were to take a look at a semantic segmentation model output, it will assign the same class to every instance of an object it comes across in an image. For example, all cats will be labeled as “cat” instead of “cat-1”, “cat-2”. We can use transformers’ image segmentation pipeline to quickly infer a semantic segmentation model. Let’s take a look at the example image.\n",
    "\n",
    "The model we will use is NVIDIA'S SegFormer: nvidia/segformer-b1-finetuned-cityscapes-1024-1024."
   ]
  },
  {
   "cell_type": "code",
   "execution_count": null,
   "id": "4dd6a9bf",
   "metadata": {},
   "outputs": [],
   "source": [
    "# Get the image\n",
    "url = \"https://huggingface.co/datasets/huggingface/documentation-images/resolve/main/transformers/tasks/segmentation_input.jpg\"\n",
    "image = Image.open(requests.get(url, stream=True).raw)\n",
    "image"
   ]
  },
  {
   "cell_type": "code",
   "execution_count": null,
   "id": "0c749989",
   "metadata": {},
   "outputs": [],
   "source": [
    "# Get segmentation pipeline output results\n",
    "semantic_segmentation = pipeline(\"image-segmentation\", \"nvidia/segformer-b1-finetuned-cityscapes-1024-1024\")\n",
    "results = semantic_segmentation(image)\n",
    "results"
   ]
  },
  {
   "cell_type": "code",
   "execution_count": null,
   "id": "c9ac6023",
   "metadata": {},
   "outputs": [],
   "source": [
    "# Taking a look at the mask for the building class, we can see every building is classified with the same mask.\n",
    "labels = [seg_dict['label'] for seg_dict in results]\n",
    "required_label = 'building'\n",
    "results[labels.index(required_label)][\"mask\"]"
   ]
  },
  {
   "cell_type": "markdown",
   "id": "e09121a7",
   "metadata": {},
   "source": [
    "## Instance Segmentation"
   ]
  },
  {
   "cell_type": "markdown",
   "id": "21bd98fb",
   "metadata": {},
   "source": [
    "In instance segmentation, the goal is not to classify every pixel, but to predict a mask for every instance of an object in a given image. It works very similar to object detection, where there is a bounding box for every instance, there’s a segmentation mask instead. \n",
    "\n",
    "We will use Facebook's facebook/mask2former-swin-large-cityscapes-instance for this."
   ]
  },
  {
   "cell_type": "code",
   "execution_count": null,
   "id": "dda9e7f2",
   "metadata": {},
   "outputs": [],
   "source": [
    "instance_segmentation = pipeline(\"image-segmentation\", \"facebook/mask2former-swin-large-cityscapes-instance\")\n",
    "results = instance_segmentation(image)\n",
    "results"
   ]
  },
  {
   "cell_type": "code",
   "execution_count": null,
   "id": "9865b854",
   "metadata": {},
   "outputs": [],
   "source": [
    "# Check out one of the car instances\n",
    "results[2][\"mask\"]"
   ]
  },
  {
   "cell_type": "markdown",
   "id": "c6fd376c",
   "metadata": {},
   "source": [
    "## Panoptic Segmentation"
   ]
  },
  {
   "cell_type": "markdown",
   "id": "4d8a3a8f",
   "metadata": {},
   "source": [
    "Panoptic segmentation combines semantic segmentation and instance segmentation, where every pixel is classified into a class and an instance of that class, and there are multiple masks for each instance of a class. We'll use Facebook's facebook/mask2former-swin-large-cityscapes-panoptic for panoptic segmentation."
   ]
  },
  {
   "cell_type": "code",
   "execution_count": null,
   "id": "fb8efa78",
   "metadata": {},
   "outputs": [],
   "source": [
    "panoptic_segmentation = pipeline(\"image-segmentation\", \"facebook/mask2former-swin-large-cityscapes-panoptic\")\n",
    "results = panoptic_segmentation(image)\n",
    "\n",
    "# Result show we have more classes. \n",
    "# We will later illustrate to see that every pixel is classified into one of the classes.\n",
    "results"
   ]
  },
  {
   "cell_type": "markdown",
   "id": "d4964366",
   "metadata": {},
   "source": [
    "# Fine-tuning a model for Semantic Segmentation"
   ]
  },
  {
   "cell_type": "markdown",
   "id": "4fa2fab2",
   "metadata": {},
   "source": [
    "Seeing all types of segmentation, let’s have a deep dive on fine-tuning a model for semantic segmentation. We will now:\n",
    "\n",
    "a. Finetune SegFormer on the SceneParse150 dataset.<br>\n",
    "b. Use the fine-tuned model for inference.\n",
    "\n",
    "Common real-world applications of semantic segmentation include training self-driving cars to identify pedestrians and important traffic information, identifying cells and abnormalities in medical imagery, and monitoring environmental changes from satellite imagery."
   ]
  },
  {
   "cell_type": "code",
   "execution_count": null,
   "id": "3dfc8425",
   "metadata": {},
   "outputs": [],
   "source": [
    "# Load SceneParse150 dataset\n",
    "ds = load_dataset(\"scene_parse_150\", split=\"train[:50]\") # Load subset first, for experimentation\n",
    "\n",
    "ds = ds.train_test_split(test_size=0.2)\n",
    "train_ds = ds[\"train\"]\n",
    "test_ds = ds[\"test\"]"
   ]
  },
  {
   "cell_type": "code",
   "execution_count": null,
   "id": "7d7249c7",
   "metadata": {},
   "outputs": [],
   "source": [
    "# Inspect the data set\n",
    "# image: a PIL image of the scene.\n",
    "# annotation: a PIL image of the segmentation map, which is also the model’s target.\n",
    "# scene_category: a category id that describes the image scene like “kitchen” or “office”.\n",
    "train_ds[0]"
   ]
  },
  {
   "cell_type": "code",
   "execution_count": null,
   "id": "c91119d3",
   "metadata": {},
   "outputs": [],
   "source": [
    "# In this guide, you’ll only need image and annotation, both of which are PIL images.\n",
    "train_ds[0][\"image\"]"
   ]
  },
  {
   "cell_type": "code",
   "execution_count": null,
   "id": "3c631315",
   "metadata": {},
   "outputs": [],
   "source": [
    "# Create a dictionary that maps a label id to a label class\n",
    "# Download the mappings from the Hub and create the id2label and label2id dictionaries:\n",
    "repo_id = \"huggingface/label-files\"\n",
    "filename = \"ade20k-id2label.json\"\n",
    "id2label = json.load(open(cached_download(hf_hub_url(repo_id, filename, repo_type=\"dataset\")), \"r\"))\n",
    "id2label = {int(k): v for k, v in id2label.items()}\n",
    "label2id = {v: k for k, v in id2label.items()}\n",
    "num_labels = len(id2label)"
   ]
  },
  {
   "cell_type": "markdown",
   "id": "a8b4b329",
   "metadata": {},
   "source": [
    "# Preprocess"
   ]
  },
  {
   "cell_type": "code",
   "execution_count": null,
   "id": "85dc9089",
   "metadata": {},
   "outputs": [],
   "source": [
    "# Load a SegFormer image processor to prepare the images and annotations for the model\n",
    "# Some datasets, like this one, use the zero-index as the background class\n",
    "# However, the background class isn’t actually included in the 150 classes...\n",
    "# so you’ll need to set do_reduce_labels=True to subtract one from all the labels\n",
    "# The zero-index is replaced by 255 so it’s ignored by SegFormer’s loss function\n",
    "\n",
    "checkpoint = \"nvidia/mit-b0\"\n",
    "image_processor = AutoImageProcessor.from_pretrained(checkpoint, do_reduce_labels=True)"
   ]
  },
  {
   "cell_type": "code",
   "execution_count": null,
   "id": "a433d3b2",
   "metadata": {},
   "outputs": [],
   "source": []
  },
  {
   "cell_type": "code",
   "execution_count": null,
   "id": "5f3008bb",
   "metadata": {},
   "outputs": [],
   "source": []
  },
  {
   "cell_type": "code",
   "execution_count": null,
   "id": "c4263cbe",
   "metadata": {},
   "outputs": [],
   "source": []
  },
  {
   "cell_type": "code",
   "execution_count": null,
   "id": "d98ea95d",
   "metadata": {},
   "outputs": [],
   "source": []
  },
  {
   "cell_type": "markdown",
   "id": "6ff1ad0b",
   "metadata": {},
   "source": [
    "## Using the model on a custom dataset\n"
   ]
  },
  {
   "cell_type": "code",
   "execution_count": null,
   "id": "c6f88499",
   "metadata": {},
   "outputs": [],
   "source": [
    "# You could also create and use your own dataset if you prefer\n",
    "# You can train using the run_semantic_segmentation.py script instead of a notebook instance\n",
    "# The script requires 2 things\n",
    "# 1. a DatasetDict with two Image columns, “image” and “label”, and...\n",
    "# 2. an id2label dictionary mapping the class integers to their class names"
   ]
  },
  {
   "cell_type": "code",
   "execution_count": null,
   "id": "322b5d49",
   "metadata": {},
   "outputs": [],
   "source": [
    "\n",
    "# Example DatasetDict with two Image columns, “image” and “label”\n",
    "from datasets import Dataset, DatasetDict, Image\n",
    "\n",
    "image_paths_train = [\"path/to/image_1.jpg/jpg\", \"path/to/image_2.jpg/jpg\", ..., \"path/to/image_n.jpg/jpg\"]\n",
    "label_paths_train = [\"path/to/annotation_1.png\", \"path/to/annotation_2.png\", ..., \"path/to/annotation_n.png\"]\n",
    "\n",
    "image_paths_validation = [...]\n",
    "label_paths_validation = [...]\n",
    "\n",
    "def create_dataset(image_paths, label_paths):\n",
    "    dataset = Dataset.from_dict({\"image\": sorted(image_paths),\n",
    "                                \"label\": sorted(label_paths)})\n",
    "    dataset = dataset.cast_column(\"image\", Image())\n",
    "    dataset = dataset.cast_column(\"label\", Image())\n",
    "    return dataset\n",
    "\n",
    "# step 1: create Dataset objects\n",
    "train_dataset = create_dataset(image_paths_train, label_paths_train)\n",
    "validation_dataset = create_dataset(image_paths_validation, label_paths_validation)\n",
    "\n",
    "# step 2: create DatasetDict\n",
    "dataset = DatasetDict({\n",
    "     \"train\": train_dataset,\n",
    "     \"validation\": validation_dataset,\n",
    "     }\n",
    ")\n",
    "\n",
    "# step 3: push to Hub (assumes you have ran the huggingface-cli login command in a terminal/notebook)\n",
    "dataset.push_to_hub(\"your-name/dataset-repo\")\n",
    "\n",
    "# optionally, you can push to a private repo on the Hub\n",
    "# dataset.push_to_hub(\"name of repo on the hub\", private=True)"
   ]
  },
  {
   "cell_type": "code",
   "execution_count": null,
   "id": "e2fdd385",
   "metadata": {},
   "outputs": [],
   "source": [
    "\n",
    "# Example id2label dictionary mapping the class integers to their class names\n",
    "import json\n",
    "# simple example\n",
    "id2label = {0: 'cat', 1: 'dog'}\n",
    "with open('id2label.json', 'w') as fp:\n",
    "json.dump(id2label, fp)"
   ]
  }
 ],
 "metadata": {
  "kernelspec": {
   "display_name": "Python [conda env:nlp]",
   "language": "python",
   "name": "conda-env-nlp-py"
  },
  "language_info": {
   "codemirror_mode": {
    "name": "ipython",
    "version": 3
   },
   "file_extension": ".py",
   "mimetype": "text/x-python",
   "name": "python",
   "nbconvert_exporter": "python",
   "pygments_lexer": "ipython3",
   "version": "3.10.13"
  }
 },
 "nbformat": 4,
 "nbformat_minor": 5
}
