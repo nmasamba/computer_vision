{
 "cells": [
  {
   "cell_type": "markdown",
   "id": "a19c7c54",
   "metadata": {},
   "source": [
    "Image segmentation models separate areas corresponding to different areas of interest in an image. These models work by assigning a label to each pixel. There are several types of segmentation: semantic segmentation, instance segmentation, and panoptic segmentation.\n",
    "\n",
    "In this guide, we will:\n",
    "\n",
    "1. Take a look at different types of segmentation.\n",
    "2. Have an end-to-end fine-tuning example for semantic segmentation."
   ]
  },
  {
   "cell_type": "markdown",
   "id": "83d6b6f6",
   "metadata": {},
   "source": [
    "# Libraries"
   ]
  },
  {
   "cell_type": "code",
   "execution_count": null,
   "id": "3a544fc8",
   "metadata": {},
   "outputs": [],
   "source": [
    "pip install -q datasets transformers evaluate accelerate"
   ]
  },
  {
   "cell_type": "code",
   "execution_count": null,
   "id": "92f07cc7",
   "metadata": {},
   "outputs": [],
   "source": [
    "\n",
    "import json\n",
    "import torch\n",
    "import requests\n",
    "import evaluate\n",
    "import numpy as np\n",
    "import matplotlib.pyplot as plt\n",
    "from PIL import Image\n",
    "from datasets import load_dataset\n",
    "from huggingface_hub import cached_download, hf_hub_url\n",
    "from torchvision.transforms import ColorJitter\n",
    "from transformers import pipeline, AutoImageProcessor, AutoModelForSemanticSegmentation, TrainingArguments, Trainer\n"
   ]
  },
  {
   "cell_type": "markdown",
   "id": "27b35360",
   "metadata": {},
   "source": [
    "# Types of Segmentation"
   ]
  },
  {
   "cell_type": "markdown",
   "id": "f109d860",
   "metadata": {},
   "source": [
    "## Semantic Segmentation"
   ]
  },
  {
   "cell_type": "markdown",
   "id": "90b3960f",
   "metadata": {},
   "source": [
    "Semantic segmentation assigns a label or class to every single pixel in an image. If we were to take a look at a semantic segmentation model output, it will assign the same class to every instance of an object it comes across in an image. For example, all cats will be labeled as “cat” instead of “cat-1”, “cat-2”. We can use transformers’ image segmentation pipeline to quickly infer a semantic segmentation model. Let’s take a look at the example image.\n",
    "\n",
    "The model we will use is NVIDIA'S SegFormer: nvidia/segformer-b1-finetuned-cityscapes-1024-1024."
   ]
  },
  {
   "cell_type": "code",
   "execution_count": null,
   "id": "4dd6a9bf",
   "metadata": {},
   "outputs": [],
   "source": [
    "# Get the image\n",
    "url = \"https://huggingface.co/datasets/huggingface/documentation-images/resolve/main/transformers/tasks/segmentation_input.jpg\"\n",
    "image = Image.open(requests.get(url, stream=True).raw)\n",
    "image"
   ]
  },
  {
   "cell_type": "code",
   "execution_count": null,
   "id": "0c749989",
   "metadata": {},
   "outputs": [],
   "source": [
    "# Get segmentation pipeline output results\n",
    "semantic_segmentation = pipeline(\"image-segmentation\", \"nvidia/segformer-b1-finetuned-cityscapes-1024-1024\")\n",
    "results = semantic_segmentation(image)\n",
    "results"
   ]
  },
  {
   "cell_type": "code",
   "execution_count": null,
   "id": "c9ac6023",
   "metadata": {},
   "outputs": [],
   "source": [
    "# Taking a look at the mask for the building class, we can see every building is classified with the same mask.\n",
    "labels = [seg_dict['label'] for seg_dict in results]\n",
    "required_label = 'building'\n",
    "results[labels.index(required_label)][\"mask\"]"
   ]
  },
  {
   "cell_type": "markdown",
   "id": "e09121a7",
   "metadata": {},
   "source": [
    "## Instance Segmentation"
   ]
  },
  {
   "cell_type": "markdown",
   "id": "21bd98fb",
   "metadata": {},
   "source": [
    "In instance segmentation, the goal is not to classify every pixel, but to predict a mask for every instance of an object in a given image. It works very similar to object detection, where there is a bounding box for every instance, there’s a segmentation mask instead. \n",
    "\n",
    "We will use Facebook's facebook/mask2former-swin-large-cityscapes-instance for this."
   ]
  },
  {
   "cell_type": "code",
   "execution_count": null,
   "id": "dda9e7f2",
   "metadata": {},
   "outputs": [],
   "source": [
    "instance_segmentation = pipeline(\"image-segmentation\", \"facebook/mask2former-swin-large-cityscapes-instance\")\n",
    "results = instance_segmentation(image)\n",
    "results"
   ]
  },
  {
   "cell_type": "code",
   "execution_count": null,
   "id": "9865b854",
   "metadata": {},
   "outputs": [],
   "source": [
    "# Check out one of the car instances\n",
    "results[2][\"mask\"]"
   ]
  },
  {
   "cell_type": "markdown",
   "id": "c6fd376c",
   "metadata": {},
   "source": [
    "## Panoptic Segmentation"
   ]
  },
  {
   "cell_type": "markdown",
   "id": "4d8a3a8f",
   "metadata": {},
   "source": [
    "Panoptic segmentation combines semantic segmentation and instance segmentation, where every pixel is classified into a class and an instance of that class, and there are multiple masks for each instance of a class. We'll use Facebook's facebook/mask2former-swin-large-cityscapes-panoptic for panoptic segmentation."
   ]
  },
  {
   "cell_type": "code",
   "execution_count": null,
   "id": "fb8efa78",
   "metadata": {},
   "outputs": [],
   "source": [
    "panoptic_segmentation = pipeline(\"image-segmentation\", \"facebook/mask2former-swin-large-cityscapes-panoptic\")\n",
    "results = panoptic_segmentation(image)\n",
    "\n",
    "# Result show we have more classes. \n",
    "# We will later illustrate to see that every pixel is classified into one of the classes.\n",
    "results"
   ]
  },
  {
   "cell_type": "markdown",
   "id": "d4964366",
   "metadata": {},
   "source": [
    "# Fine-tuning a model for Semantic Segmentation"
   ]
  },
  {
   "cell_type": "markdown",
   "id": "4fa2fab2",
   "metadata": {},
   "source": [
    "Seeing all types of segmentation, let’s have a deep dive on fine-tuning a model for semantic segmentation. We will now:\n",
    "\n",
    "a. Finetune SegFormer on the SceneParse150 dataset.<br>\n",
    "b. Use the fine-tuned model for inference.\n",
    "\n",
    "Common real-world applications of semantic segmentation include training self-driving cars to identify pedestrians and important traffic information, identifying cells and abnormalities in medical imagery, and monitoring environmental changes from satellite imagery."
   ]
  },
  {
   "cell_type": "code",
   "execution_count": null,
   "id": "dabb7c64",
   "metadata": {},
   "outputs": [],
   "source": [
    "# Load SceneParse150 dataset\n",
    "ds = load_dataset(\"scene_parse_150\", split=\"train[:50]\") # Load subset first, for experimentation\n",
    "\n",
    "ds = ds.train_test_split(test_size=0.2)\n",
    "train_ds = ds[\"train\"]\n",
    "test_ds = ds[\"test\"]"
   ]
  },
  {
   "cell_type": "code",
   "execution_count": null,
   "id": "76e93cfa",
   "metadata": {},
   "outputs": [],
   "source": [
    "# Inspect the data set\n",
    "# image: a PIL image of the scene.\n",
    "# annotation: a PIL image of the segmentation map, which is also the model’s target.\n",
    "# scene_category: a category id that describes the image scene like “kitchen” or “office”.\n",
    "train_ds[0]"
   ]
  },
  {
   "cell_type": "code",
   "execution_count": null,
   "id": "6c2c1736",
   "metadata": {},
   "outputs": [],
   "source": [
    "# In this guide, you’ll only need image and annotation, both of which are PIL images.\n",
    "train_ds[0][\"image\"]"
   ]
  },
  {
   "cell_type": "code",
   "execution_count": null,
   "id": "27c84119",
   "metadata": {},
   "outputs": [],
   "source": [
    "# Create a dictionary that maps a label id to a label class\n",
    "# Download the mappings from the Hub and create the id2label and label2id dictionaries:\n",
    "repo_id = \"huggingface/label-files\"\n",
    "filename = \"ade20k-id2label.json\"\n",
    "id2label = json.load(open(cached_download(hf_hub_url(repo_id, filename, repo_type=\"dataset\")), \"r\"))\n",
    "id2label = {int(k): v for k, v in id2label.items()}\n",
    "label2id = {v: k for k, v in id2label.items()}\n",
    "num_labels = len(id2label)"
   ]
  },
  {
   "cell_type": "markdown",
   "id": "57697974",
   "metadata": {},
   "source": [
    "## Preprocess"
   ]
  },
  {
   "cell_type": "code",
   "execution_count": null,
   "id": "c8eba53c",
   "metadata": {},
   "outputs": [],
   "source": [
    "# Load a SegFormer image processor to prepare the images and annotations for the model\n",
    "# Some datasets, like this one, use the zero-index as the background class\n",
    "# However, the background class isn’t actually included in the 150 classes...\n",
    "# so you’ll need to set do_reduce_labels=True to subtract one from all the labels\n",
    "# The zero-index is replaced by 255 so it’s ignored by SegFormer’s loss function\n",
    "\n",
    "checkpoint = \"nvidia/mit-b0\"\n",
    "image_processor = AutoImageProcessor.from_pretrained(checkpoint, do_reduce_labels=True)"
   ]
  },
  {
   "cell_type": "code",
   "execution_count": null,
   "id": "cc28c673",
   "metadata": {},
   "outputs": [],
   "source": [
    "# It is common to apply some data augmentations to an image dataset to make a model more robust against overfitting\n",
    "# In this guide, you’ll use the ColorJitter function from torchvision to randomly change the color properties of an image\n",
    "\n",
    "jitter = ColorJitter(brightness=0.25, contrast=0.25, saturation=0.25, hue=0.1)"
   ]
  },
  {
   "cell_type": "code",
   "execution_count": null,
   "id": "285bd91d",
   "metadata": {},
   "outputs": [],
   "source": [
    "# We now need to create two preprocessing functions to prepare the images and annotations for the model\n",
    "# These functions convert the images into pixel_values and annotations to labels\n",
    "\n",
    "# For the training set, jitter is applied before providing the images to the image processor\n",
    "def train_transforms(example_batch):\n",
    "    images = [jitter(x) for x in example_batch[\"image\"]]\n",
    "    labels = [x for x in example_batch[\"annotation\"]]\n",
    "    inputs = image_processor(images, labels)\n",
    "    return inputs\n",
    "\n",
    "# For the test set, the image processor crops and normalizes the images, and correspondingly crops the labels\n",
    "# NB: No data augmentation is applied during testing\n",
    "def val_transforms(example_batch):\n",
    "    images = [x for x in example_batch[\"image\"]]\n",
    "    labels = [x for x in example_batch[\"annotation\"]]\n",
    "    inputs = image_processor(images, labels)\n",
    "    return inputs"
   ]
  },
  {
   "cell_type": "code",
   "execution_count": null,
   "id": "e6960051",
   "metadata": {},
   "outputs": [],
   "source": [
    "# To apply the jitter over the entire dataset, use the Datasets set_transform function\n",
    "# The transform is applied on the fly which is faster and consumes less disk space\n",
    "train_ds.set_transform(train_transforms)\n",
    "test_ds.set_transform(val_transforms)"
   ]
  },
  {
   "cell_type": "markdown",
   "id": "e6197333",
   "metadata": {},
   "source": [
    "## Evaluation"
   ]
  },
  {
   "cell_type": "code",
   "execution_count": null,
   "id": "526687ba",
   "metadata": {},
   "outputs": [],
   "source": [
    "# Load the mean Intersection over Union (IoU) metric \n",
    "metric = evaluate.load(\"mean_iou\")"
   ]
  },
  {
   "cell_type": "code",
   "execution_count": null,
   "id": "e5db4fa3",
   "metadata": {},
   "outputs": [],
   "source": [
    "# Create a function to compute the metrics\n",
    "# Predictions need to be converted to logits first, and then reshaped to match the size of the labels \n",
    "def compute_metrics(eval_pred):\n",
    "    with torch.no_grad():\n",
    "        logits, labels = eval_pred\n",
    "        logits_tensor = torch.from_numpy(logits)\n",
    "        logits_tensor = torch.nn.functional.interpolate(\n",
    "            logits_tensor,\n",
    "            size=labels.shape[-2:],\n",
    "            mode=\"bilinear\",\n",
    "            align_corners=False,\n",
    "        ).argmax(dim=1)\n",
    "\n",
    "        pred_labels = logits_tensor.detach().cpu().numpy()\n",
    "        metrics = metric.compute(\n",
    "            predictions=pred_labels,\n",
    "            references=labels,\n",
    "            num_labels=num_labels,\n",
    "            ignore_index=255,\n",
    "            reduce_labels=False,\n",
    "        )\n",
    "        for key, value in metrics.items():\n",
    "            if isinstance(value, np.ndarray):\n",
    "                metrics[key] = value.tolist()\n",
    "        return metrics"
   ]
  },
  {
   "cell_type": "markdown",
   "id": "dbd629f6",
   "metadata": {},
   "source": [
    "## Training"
   ]
  },
  {
   "cell_type": "code",
   "execution_count": null,
   "id": "e63896dd",
   "metadata": {},
   "outputs": [],
   "source": [
    "# Load SegFormer with AutoModelForSemanticSegmentation\n",
    "# Pass the mapping between label ids and label classes\n",
    "model = AutoModelForSemanticSegmentation.from_pretrained(checkpoint, id2label=id2label, label2id=label2id)"
   ]
  },
  {
   "cell_type": "code",
   "execution_count": null,
   "id": "fcae8d8f",
   "metadata": {},
   "outputs": [],
   "source": [
    "# Final 3 steps: define hyperparameters, instantiate Trainer, then call train on the instantiated object\n",
    "# It's important you don’t remove unused columns because this’ll drop the image column\n",
    "training_args = TrainingArguments(\n",
    "    output_dir=\"segformer_scene_parse_150_model\",\n",
    "    learning_rate=6e-5,\n",
    "    num_train_epochs=50,\n",
    "    per_device_train_batch_size=2,\n",
    "    per_device_eval_batch_size=2,\n",
    "    save_total_limit=3,\n",
    "    eval_strategy=\"steps\",\n",
    "    save_strategy=\"steps\",\n",
    "    save_steps=20,\n",
    "    eval_steps=20,\n",
    "    logging_steps=1,\n",
    "    eval_accumulation_steps=5,\n",
    "    remove_unused_columns=False\n",
    ")\n",
    "\n",
    "# Pass the training arguments to Trainer...\n",
    "# along with the model, dataset, tokenizer, data collator, and compute_metrics function\n",
    "trainer = Trainer(\n",
    "    model=model,\n",
    "    args=training_args,\n",
    "    train_dataset=train_ds,\n",
    "    eval_dataset=test_ds,\n",
    "    compute_metrics=compute_metrics,\n",
    ")\n",
    "\n",
    "# Train the model\n",
    "trainer.train()"
   ]
  },
  {
   "cell_type": "markdown",
   "id": "a954a415",
   "metadata": {},
   "source": [
    "## Inference"
   ]
  },
  {
   "cell_type": "code",
   "execution_count": null,
   "id": "bf15c1f2",
   "metadata": {},
   "outputs": [],
   "source": [
    "# Reload the dataset and load an image for inference\n",
    "ds = load_dataset(\"scene_parse_150\", split=\"train[:50]\")\n",
    "ds = ds.train_test_split(test_size=0.2)\n",
    "test_ds = ds[\"test\"]\n",
    "image = ds[\"test\"][10][\"image\"]\n",
    "image"
   ]
  },
  {
   "cell_type": "code",
   "execution_count": null,
   "id": "d7c3e655",
   "metadata": {},
   "outputs": [],
   "source": [
    "# Inference without a pipeline\n",
    "\n",
    "# Process the image with an image processor \n",
    "encoding = image_processor(image, return_tensors=\"pt\")\n",
    "\n",
    "# Place the pixel_values on a GPU if available, else use CPU\n",
    "device = torch.device(\"cuda\" if torch.cuda.is_available() else \"cpu\")\n",
    "pixel_values = encoding.pixel_values.to(device)\n",
    "\n",
    "# Pass your input to the model and return the logits\n",
    "outputs = model(pixel_values=pixel_values)\n",
    "logits = outputs.logits.cpu()\n",
    "\n",
    "# Next, rescale the logits to the original image size\n",
    "upsampled_logits = nn.functional.interpolate(\n",
    "    logits,\n",
    "    size=image.size[::-1],\n",
    "    mode=\"bilinear\",\n",
    "    align_corners=False,\n",
    ")\n",
    "\n",
    "pred_seg = upsampled_logits.argmax(dim=1)[0]\n"
   ]
  },
  {
   "cell_type": "code",
   "execution_count": null,
   "id": "3bb80f8c",
   "metadata": {},
   "outputs": [],
   "source": [
    "# To visualize the results, load the dataset color palette as ade_palette()\n",
    "# It maps each class to their RGB values\n",
    "def ade_palette():\n",
    "    return np.asarray([\n",
    "      [0, 0, 0],\n",
    "      [120, 120, 120],\n",
    "      [180, 120, 120],\n",
    "      [6, 230, 230],\n",
    "      [80, 50, 50],\n",
    "      [4, 200, 3],\n",
    "      [120, 120, 80],\n",
    "      [140, 140, 140],\n",
    "      [204, 5, 255],\n",
    "      [230, 230, 230],\n",
    "      [4, 250, 7],\n",
    "      [224, 5, 255],\n",
    "      [235, 255, 7],\n",
    "      [150, 5, 61],\n",
    "      [120, 120, 70],\n",
    "      [8, 255, 51],\n",
    "      [255, 6, 82],\n",
    "      [143, 255, 140],\n",
    "      [204, 255, 4],\n",
    "      [255, 51, 7],\n",
    "      [204, 70, 3],\n",
    "      [0, 102, 200],\n",
    "      [61, 230, 250],\n",
    "      [255, 6, 51],\n",
    "      [11, 102, 255],\n",
    "      [255, 7, 71],\n",
    "      [255, 9, 224],\n",
    "      [9, 7, 230],\n",
    "      [220, 220, 220],\n",
    "      [255, 9, 92],\n",
    "      [112, 9, 255],\n",
    "      [8, 255, 214],\n",
    "      [7, 255, 224],\n",
    "      [255, 184, 6],\n",
    "      [10, 255, 71],\n",
    "      [255, 41, 10],\n",
    "      [7, 255, 255],\n",
    "      [224, 255, 8],\n",
    "      [102, 8, 255],\n",
    "      [255, 61, 6],\n",
    "      [255, 194, 7],\n",
    "      [255, 122, 8],\n",
    "      [0, 255, 20],\n",
    "      [255, 8, 41],\n",
    "      [255, 5, 153],\n",
    "      [6, 51, 255],\n",
    "      [235, 12, 255],\n",
    "      [160, 150, 20],\n",
    "      [0, 163, 255],\n",
    "      [140, 140, 140],\n",
    "      [250, 10, 15],\n",
    "      [20, 255, 0],\n",
    "      [31, 255, 0],\n",
    "      [255, 31, 0],\n",
    "      [255, 224, 0],\n",
    "      [153, 255, 0],\n",
    "      [0, 0, 255],\n",
    "      [255, 71, 0],\n",
    "      [0, 235, 255],\n",
    "      [0, 173, 255],\n",
    "      [31, 0, 255],\n",
    "      [11, 200, 200],\n",
    "      [255, 82, 0],\n",
    "      [0, 255, 245],\n",
    "      [0, 61, 255],\n",
    "      [0, 255, 112],\n",
    "      [0, 255, 133],\n",
    "      [255, 0, 0],\n",
    "      [255, 163, 0],\n",
    "      [255, 102, 0],\n",
    "      [194, 255, 0],\n",
    "      [0, 143, 255],\n",
    "      [51, 255, 0],\n",
    "      [0, 82, 255],\n",
    "      [0, 255, 41],\n",
    "      [0, 255, 173],\n",
    "      [10, 0, 255],\n",
    "      [173, 255, 0],\n",
    "      [0, 255, 153],\n",
    "      [255, 92, 0],\n",
    "      [255, 0, 255],\n",
    "      [255, 0, 245],\n",
    "      [255, 0, 102],\n",
    "      [255, 173, 0],\n",
    "      [255, 0, 20],\n",
    "      [255, 184, 184],\n",
    "      [0, 31, 255],\n",
    "      [0, 255, 61],\n",
    "      [0, 71, 255],\n",
    "      [255, 0, 204],\n",
    "      [0, 255, 194],\n",
    "      [0, 255, 82],\n",
    "      [0, 10, 255],\n",
    "      [0, 112, 255],\n",
    "      [51, 0, 255],\n",
    "      [0, 194, 255],\n",
    "      [0, 122, 255],\n",
    "      [0, 255, 163],\n",
    "      [255, 153, 0],\n",
    "      [0, 255, 10],\n",
    "      [255, 112, 0],\n",
    "      [143, 255, 0],\n",
    "      [82, 0, 255],\n",
    "      [163, 255, 0],\n",
    "      [255, 235, 0],\n",
    "      [8, 184, 170],\n",
    "      [133, 0, 255],\n",
    "      [0, 255, 92],\n",
    "      [184, 0, 255],\n",
    "      [255, 0, 31],\n",
    "      [0, 184, 255],\n",
    "      [0, 214, 255],\n",
    "      [255, 0, 112],\n",
    "      [92, 255, 0],\n",
    "      [0, 224, 255],\n",
    "      [112, 224, 255],\n",
    "      [70, 184, 160],\n",
    "      [163, 0, 255],\n",
    "      [153, 0, 255],\n",
    "      [71, 255, 0],\n",
    "      [255, 0, 163],\n",
    "      [255, 204, 0],\n",
    "      [255, 0, 143],\n",
    "      [0, 255, 235],\n",
    "      [133, 255, 0],\n",
    "      [255, 0, 235],\n",
    "      [245, 0, 255],\n",
    "      [255, 0, 122],\n",
    "      [255, 245, 0],\n",
    "      [10, 190, 212],\n",
    "      [214, 255, 0],\n",
    "      [0, 204, 255],\n",
    "      [20, 0, 255],\n",
    "      [255, 255, 0],\n",
    "      [0, 153, 255],\n",
    "      [0, 41, 255],\n",
    "      [0, 255, 204],\n",
    "      [41, 0, 255],\n",
    "      [41, 255, 0],\n",
    "      [173, 0, 255],\n",
    "      [0, 245, 255],\n",
    "      [71, 0, 255],\n",
    "      [122, 0, 255],\n",
    "      [0, 255, 184],\n",
    "      [0, 92, 255],\n",
    "      [184, 255, 0],\n",
    "      [0, 133, 255],\n",
    "      [255, 214, 0],\n",
    "      [25, 194, 194],\n",
    "      [102, 255, 0],\n",
    "      [92, 0, 255],\n",
    "  ])"
   ]
  },
  {
   "cell_type": "code",
   "execution_count": null,
   "id": "e7102d76",
   "metadata": {},
   "outputs": [],
   "source": [
    "# Then combine and plot image + predicted segmentation map\n",
    "color_seg = np.zeros((pred_seg.shape[0], pred_seg.shape[1], 3), dtype=np.uint8)\n",
    "palette = np.array(ade_palette())\n",
    "for label, color in enumerate(palette):\n",
    "    color_seg[pred_seg == label, :] = color\n",
    "color_seg = color_seg[..., ::-1]  # convert to BGR\n",
    "\n",
    "img = np.array(image) * 0.5 + color_seg * 0.5  # plot the image with the segmentation map\n",
    "img = img.astype(np.uint8)\n",
    "\n",
    "plt.figure(figsize=(15, 10))\n",
    "plt.imshow(img)\n",
    "plt.show()"
   ]
  },
  {
   "cell_type": "markdown",
   "id": "93b49bba",
   "metadata": {},
   "source": [
    "# Using the model on a custom dataset\n"
   ]
  },
  {
   "cell_type": "code",
   "execution_count": null,
   "id": "52a18ae4",
   "metadata": {},
   "outputs": [],
   "source": [
    "# You could also create and use your own dataset if you prefer\n",
    "# You can train using the run_semantic_segmentation.py script instead of a notebook instance\n",
    "# The script requires 2 things\n",
    "# 1. a DatasetDict with two Image columns, “image” and “label”, and...\n",
    "# 2. an id2label dictionary mapping the class integers to their class names"
   ]
  },
  {
   "cell_type": "code",
   "execution_count": null,
   "id": "971f0fb2",
   "metadata": {},
   "outputs": [],
   "source": [
    "\n",
    "# Example DatasetDict with two Image columns, “image” and “label”\n",
    "from datasets import Dataset, DatasetDict, Image\n",
    "\n",
    "image_paths_train = [\"path/to/image_1.jpg/jpg\", \"path/to/image_2.jpg/jpg\", ..., \"path/to/image_n.jpg/jpg\"]\n",
    "label_paths_train = [\"path/to/annotation_1.png\", \"path/to/annotation_2.png\", ..., \"path/to/annotation_n.png\"]\n",
    "\n",
    "image_paths_validation = [...]\n",
    "label_paths_validation = [...]\n",
    "\n",
    "def create_dataset(image_paths, label_paths):\n",
    "    dataset = Dataset.from_dict({\"image\": sorted(image_paths),\n",
    "                                \"label\": sorted(label_paths)})\n",
    "    dataset = dataset.cast_column(\"image\", Image())\n",
    "    dataset = dataset.cast_column(\"label\", Image())\n",
    "    return dataset\n",
    "\n",
    "# step 1: create Dataset objects\n",
    "train_dataset = create_dataset(image_paths_train, label_paths_train)\n",
    "validation_dataset = create_dataset(image_paths_validation, label_paths_validation)\n",
    "\n",
    "# step 2: create DatasetDict\n",
    "dataset = DatasetDict({\n",
    "     \"train\": train_dataset,\n",
    "     \"validation\": validation_dataset,\n",
    "     }\n",
    ")\n",
    "\n",
    "# step 3: push to Hub (assumes you have ran the huggingface-cli login command in a terminal/notebook)\n",
    "dataset.push_to_hub(\"your-name/dataset-repo\")\n",
    "\n",
    "# optionally, you can push to a private repo on the Hub\n",
    "# dataset.push_to_hub(\"name of repo on the hub\", private=True)"
   ]
  },
  {
   "cell_type": "code",
   "execution_count": null,
   "id": "99cde799",
   "metadata": {},
   "outputs": [],
   "source": [
    "\n",
    "# Example id2label dictionary mapping the class integers to their class names\n",
    "import json\n",
    "# simple example\n",
    "id2label = {0: 'cat', 1: 'dog'}\n",
    "with open('id2label.json', 'w') as fp:\n",
    "json.dump(id2label, fp)"
   ]
  }
 ],
 "metadata": {
  "kernelspec": {
   "display_name": "Python [conda env:nlp]",
   "language": "python",
   "name": "conda-env-nlp-py"
  },
  "language_info": {
   "codemirror_mode": {
    "name": "ipython",
    "version": 3
   },
   "file_extension": ".py",
   "mimetype": "text/x-python",
   "name": "python",
   "nbconvert_exporter": "python",
   "pygments_lexer": "ipython3",
   "version": "3.10.13"
  }
 },
 "nbformat": 4,
 "nbformat_minor": 5
}
