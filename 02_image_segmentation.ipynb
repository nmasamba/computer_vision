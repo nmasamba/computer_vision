{
 "cells": [
  {
   "cell_type": "markdown",
   "id": "a19c7c54",
   "metadata": {},
   "source": [
    "Image segmentation models separate areas corresponding to different areas of interest in an image. These models work by assigning a label to each pixel. There are several types of segmentation: semantic segmentation, instance segmentation, and panoptic segmentation.\n",
    "\n",
    "In this guide, we will:\n",
    "\n",
    "1. Take a look at different types of segmentation.\n",
    "2. Have an end-to-end fine-tuning example for semantic segmentation."
   ]
  },
  {
   "cell_type": "markdown",
   "id": "e4038cb8",
   "metadata": {},
   "source": [
    "# Libraries"
   ]
  },
  {
   "cell_type": "code",
   "execution_count": 1,
   "id": "3a544fc8",
   "metadata": {},
   "outputs": [
    {
     "name": "stdout",
     "output_type": "stream",
     "text": [
      "Note: you may need to restart the kernel to use updated packages.\n"
     ]
    }
   ],
   "source": [
    "pip install -q datasets transformers evaluate accelerate"
   ]
  },
  {
   "cell_type": "code",
   "execution_count": null,
   "id": "92f07cc7",
   "metadata": {},
   "outputs": [],
   "source": []
  },
  {
   "cell_type": "markdown",
   "id": "38065d7a",
   "metadata": {},
   "source": [
    "# Types of Segmentation"
   ]
  },
  {
   "cell_type": "markdown",
   "id": "09aeaca1",
   "metadata": {},
   "source": [
    "## Semantic Segmentation"
   ]
  }
 ],
 "metadata": {
  "kernelspec": {
   "display_name": "Python [conda env:nlp]",
   "language": "python",
   "name": "conda-env-nlp-py"
  },
  "language_info": {
   "codemirror_mode": {
    "name": "ipython",
    "version": 3
   },
   "file_extension": ".py",
   "mimetype": "text/x-python",
   "name": "python",
   "nbconvert_exporter": "python",
   "pygments_lexer": "ipython3",
   "version": "3.10.13"
  }
 },
 "nbformat": 4,
 "nbformat_minor": 5
}
