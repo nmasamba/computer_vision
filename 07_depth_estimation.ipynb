{
 "cells": [
  {
   "cell_type": "markdown",
   "id": "a3706796",
   "metadata": {},
   "source": [
    "# Monocular depth estimation\n",
    "\n",
    "Monocular depth estimation is a computer vision task that involves predicting the depth information of a scene from a single image. In other words, it is the process of estimating the distance of objects in a scene from a single camera viewpoint.\n",
    "\n",
    "Monocular depth estimation has various applications, including 3D reconstruction, augmented reality, autonomous driving, and robotics. It is a challenging task as it requires the model to understand the complex relationships between objects in the scene and the corresponding depth information, which can be affected by factors such as lighting conditions, occlusion, and texture.\n",
    "\n",
    "There are two main depth estimation categories:\n",
    "\n",
    "Absolute depth estimation: This task variant aims to provide exact depth measurements from the camera's perspective. The term is used interchangeably with metric depth estimation, where depth is provided in precise measurements in meters or feet. Absolute depth estimation models output depth maps with numerical values that represent real-world distances.\n",
    "\n",
    "Relative depth estimation: Relative depth estimation aims to predict the depth order of objects or points in a scene without providing the precise measurements. These models output a depth map that indicates which parts of the scene are closer or farther relative to each other without the actual distances to A and B.\n",
    "\n",
    "In this guide, we will see how to:\n",
    "1. Infer relative depth using Depth Anything V2, a state-of-the-art zero-shot relative depth estimation model.\n",
    "2. Infer depth estimation using ZoeDepth, an absolute depth estimation model."
   ]
  },
  {
   "cell_type": "markdown",
   "id": "43439e2f",
   "metadata": {},
   "source": [
    "# Libraries"
   ]
  },
  {
   "cell_type": "code",
   "execution_count": null,
   "id": "37c436be",
   "metadata": {},
   "outputs": [],
   "source": [
    "pip install -q -U transformers"
   ]
  },
  {
   "cell_type": "code",
   "execution_count": null,
   "id": "25ecc8d4",
   "metadata": {},
   "outputs": [],
   "source": []
  }
 ],
 "metadata": {
  "kernelspec": {
   "display_name": "Python [conda env:nlp]",
   "language": "python",
   "name": "conda-env-nlp-py"
  },
  "language_info": {
   "codemirror_mode": {
    "name": "ipython",
    "version": 3
   },
   "file_extension": ".py",
   "mimetype": "text/x-python",
   "name": "python",
   "nbconvert_exporter": "python",
   "pygments_lexer": "ipython3",
   "version": "3.10.13"
  }
 },
 "nbformat": 4,
 "nbformat_minor": 5
}
