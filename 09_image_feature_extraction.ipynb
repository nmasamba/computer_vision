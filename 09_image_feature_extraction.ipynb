{
 "cells": [
  {
   "cell_type": "markdown",
   "id": "16631d00",
   "metadata": {},
   "source": [
    "Image feature extraction is the task of extracting semantically meaningful features given an image. This has many use cases, including image similarity and image retrieval. Moreover, most computer vision models can be used for image feature extraction, where one can remove the task-specific head (image classification, object detection etc) and get the features. These features are very useful on a higher level: edge detection, corner detection and so on. They may also contain information about the real world (e.g. what a cat looks like) depending on how deep the model is. Therefore, these outputs can be used to train new classifiers on a specific dataset.\n",
    "\n",
    "In this guide, we will:\n",
    "- Learn to build a simple image similarity system on top of the image feature extraction pipeline.\n",
    "- Accomplish image feature extraction with bare model inference."
   ]
  },
  {
   "cell_type": "markdown",
   "id": "231e0cc0",
   "metadata": {},
   "source": [
    "# Libraries"
   ]
  },
  {
   "cell_type": "code",
   "execution_count": null,
   "id": "2ea1cbed",
   "metadata": {},
   "outputs": [],
   "source": [
    "from PIL import Image\n",
    "import requests\n"
   ]
  },
  {
   "cell_type": "markdown",
   "id": "b3488ce6",
   "metadata": {},
   "source": [
    "# Image feature extraction using pipeline"
   ]
  },
  {
   "cell_type": "code",
   "execution_count": null,
   "id": "dd0e4275",
   "metadata": {},
   "outputs": [],
   "source": [
    "img_urls = [\"https://huggingface.co/datasets/huggingface/documentation-images/resolve/main/cats.png\", \"https://huggingface.co/datasets/huggingface/documentation-images/resolve/main/cats.jpeg\"]\n",
    "image_real = Image.open(requests.get(img_urls[0], stream=True).raw).convert(\"RGB\")\n",
    "image_gen = Image.open(requests.get(img_urls[1], stream=True).raw).convert(\"RGB\")"
   ]
  }
 ],
 "metadata": {
  "kernelspec": {
   "display_name": "Python [conda env:nlp]",
   "language": "python",
   "name": "conda-env-nlp-py"
  },
  "language_info": {
   "codemirror_mode": {
    "name": "ipython",
    "version": 3
   },
   "file_extension": ".py",
   "mimetype": "text/x-python",
   "name": "python",
   "nbconvert_exporter": "python",
   "pygments_lexer": "ipython3",
   "version": "3.10.13"
  }
 },
 "nbformat": 4,
 "nbformat_minor": 5
}
