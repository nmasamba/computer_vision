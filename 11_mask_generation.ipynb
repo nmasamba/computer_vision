{
 "cells": [
  {
   "cell_type": "markdown",
   "id": "e40738ff-a5de-451f-9080-b1fb7d292111",
   "metadata": {},
   "source": [
    "# Mask Generation"
   ]
  },
  {
   "cell_type": "markdown",
   "id": "4420d9df-94b3-4706-a611-4b49738279c9",
   "metadata": {},
   "source": [
    "Mask generation is the task of generating semantically meaningful masks for an image. This task is very similar to image segmentation, but there are differences between the two tasks. The most notable difference is while image segmentation models are trained on labeled datasets and are limited to the classes they have seen during training (they return a set of masks and corresponding classes, given an image), mask generation models are trained on large amounts of data and can be used to infer previously unseen masked segments of an image.\n",
    "\n",
    "Mask generation models operate in two modes.\n",
    "- Prompting mode: In this mode, the model takes in an image and a prompt, where a prompt can be a 2D point location (XY coordinates) in the image within an object or a bounding box surrounding an object. In prompting mode, the model only returns the mask over the object that the prompt is pointing out.\n",
    "- Segment Everything mode: In segment everything, given an image, the model generates every mask in the image. To do so, a grid of points is generated and overlaid on the image for inference.\n",
    "\n",
    "This mask generation task is supported by Segment Anything Model (SAM:https://github.com/facebookresearch/sam2). It’s a powerful model that consists of a Vision Transformer-based image encoder, a prompt encoder, and a two-way transformer mask decoder. Images and prompts are encoded, and the decoder takes these embeddings and generates valid masks. SAM serves as a powerful foundation model for segmentation as it has large data coverage. It is trained on SA-1B, a dataset with 1 million images and 1.1 billion masks.\n",
    "\n",
    "This guide teaches how to:\n",
    "1. Infer in Segment Everything mode with batching,\n",
    "2. Infer in Point Prompting mode,\n",
    "3. Infer in Box Prompting mode."
   ]
  },
  {
   "cell_type": "markdown",
   "id": "120e30f1-b7d3-49a3-97aa-8b2184d1479c",
   "metadata": {},
   "source": [
    "# Libraries"
   ]
  },
  {
   "cell_type": "code",
   "execution_count": null,
   "id": "fa09e079-16b9-4e44-8b21-6696597a0dad",
   "metadata": {},
   "outputs": [],
   "source": [
    "pip install -q transformers"
   ]
  },
  {
   "cell_type": "code",
   "execution_count": null,
   "id": "ee9247e4-3c42-4238-81d4-7dcef98ca26e",
   "metadata": {},
   "outputs": [],
   "source": [
    "import requests\n",
    "from PIL import Image\n",
    "from transformers import pipeline\n"
   ]
  },
  {
   "cell_type": "markdown",
   "id": "09751dc0-5223-4b25-974e-aba1e00ed920",
   "metadata": {},
   "source": [
    "# Mask Generation using pipeline()"
   ]
  },
  {
   "cell_type": "code",
   "execution_count": null,
   "id": "55ae10d2-fd68-4ebc-9a8b-b9d9ca6a4bf5",
   "metadata": {},
   "outputs": [],
   "source": [
    "checkpoint = \"facebook/sam2-hiera-tiny\"\n",
    "mask_generator = pipeline(model=checkpoint, task=\"mask-generation\")"
   ]
  },
  {
   "cell_type": "code",
   "execution_count": null,
   "id": "07c7adfd-f7e4-4f0c-80f2-8bd0fbbd9938",
   "metadata": {},
   "outputs": [],
   "source": [
    "img_url = \"https://huggingface.co/datasets/huggingface/documentation-images/resolve/main/bee.jpg\"\n",
    "image = Image.open(requests.get(img_url, stream=True).raw).convert(\"RGB\")"
   ]
  },
  {
   "cell_type": "code",
   "execution_count": null,
   "id": "d69ee0cf-39e3-47cd-9f44-dc3985eb29b4",
   "metadata": {},
   "outputs": [],
   "source": []
  },
  {
   "cell_type": "code",
   "execution_count": null,
   "id": "6975f466-f43b-466d-bf8c-30d83d3086b1",
   "metadata": {},
   "outputs": [],
   "source": []
  },
  {
   "cell_type": "code",
   "execution_count": null,
   "id": "11115cc0-0d3f-41de-a5b1-3c970429274a",
   "metadata": {},
   "outputs": [],
   "source": []
  }
 ],
 "metadata": {
  "kernelspec": {
   "display_name": "Python [conda env:nlp]",
   "language": "python",
   "name": "conda-env-nlp-py"
  },
  "language_info": {
   "codemirror_mode": {
    "name": "ipython",
    "version": 3
   },
   "file_extension": ".py",
   "mimetype": "text/x-python",
   "name": "python",
   "nbconvert_exporter": "python",
   "pygments_lexer": "ipython3",
   "version": "3.10.13"
  }
 },
 "nbformat": 4,
 "nbformat_minor": 5
}
