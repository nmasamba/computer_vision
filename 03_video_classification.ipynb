{
 "cells": [
  {
   "cell_type": "markdown",
   "id": "23ea4775",
   "metadata": {},
   "source": [
    "Video classification is the task of assigning a label or class to an entire video. Videos are expected to have only one class for each video. Video classification models take a video as input and return a prediction about which class the video belongs to. These models can be used to categorize what a video is all about. A real-world application of video classification is action / activity recognition, which is useful for fitness applications. It is also helpful for vision-impaired individuals, or those who happen to be commuting.\n",
    "\n",
    "This guide will show you how to:\n",
    "\n",
    "1. Fine-tune VideoMAE on a subset of the UCF101 dataset.\n",
    "2. Use your fine-tuned model for inference."
   ]
  },
  {
   "cell_type": "markdown",
   "id": "0945c591",
   "metadata": {},
   "source": [
    "# Libraries"
   ]
  },
  {
   "cell_type": "code",
   "execution_count": null,
   "id": "3f6b776c",
   "metadata": {},
   "outputs": [],
   "source": [
    "pip install -q pytorchvideo transformers evaluate"
   ]
  },
  {
   "cell_type": "code",
   "execution_count": null,
   "id": "65e4a550",
   "metadata": {},
   "outputs": [],
   "source": [
    "import tarfile\n",
    "import pathlib"
   ]
  },
  {
   "cell_type": "markdown",
   "id": "bfdadc99",
   "metadata": {},
   "source": [
    "# Data"
   ]
  },
  {
   "cell_type": "code",
   "execution_count": null,
   "id": "8421925d",
   "metadata": {},
   "outputs": [],
   "source": [
    "from huggingface_hub import hf_hub_download\n",
    "\n",
    "hf_dataset_identifier = \"sayakpaul/ucf101-subset\"\n",
    "filename = \"UCF101_subset.tar.gz\"\n",
    "file_path = hf_hub_download(repo_id=hf_dataset_identifier, filename=filename, repo_type=\"dataset\")"
   ]
  },
  {
   "cell_type": "code",
   "execution_count": null,
   "id": "edc3c83f",
   "metadata": {},
   "outputs": [],
   "source": [
    "# Extract tarfile after dataset downloaded\n",
    "with tarfile.open(file_path) as t:\n",
    "     t.extractall(\".\")"
   ]
  },
  {
   "cell_type": "markdown",
   "id": "ba90d026",
   "metadata": {},
   "source": [
    "From a high-level view, this is how the data are organised:\n",
    "\n",
    "UCF101_subset/\n",
    "    train/\n",
    "        BandMarching/\n",
    "            video_1.mp4\n",
    "            video_2.mp4\n",
    "            ...\n",
    "        Archery\n",
    "            video_1.mp4\n",
    "            video_2.mp4\n",
    "            ...\n",
    "        ...\n",
    "    val/\n",
    "        BandMarching/\n",
    "            video_1.mp4\n",
    "            video_2.mp4\n",
    "            ...\n",
    "        Archery\n",
    "            video_1.mp4\n",
    "            video_2.mp4\n",
    "            ...\n",
    "        ...\n",
    "    test/\n",
    "        BandMarching/\n",
    "            video_1.mp4\n",
    "            video_2.mp4\n",
    "            ...\n",
    "        Archery\n",
    "            video_1.mp4\n",
    "            video_2.mp4\n",
    "            ...\n",
    "        ..."
   ]
  },
  {
   "cell_type": "code",
   "execution_count": null,
   "id": "5cd2b523",
   "metadata": {},
   "outputs": [],
   "source": [
    "# Gather some metadata about the dataset\n",
    "\n",
    "# 1. Count the number of videos\n",
    "dataset_root_path = \"UCF101_subset\"\n",
    "dataset_root_path = pathlib.Path(dataset_root_path)\n",
    "video_count_train = len(list(dataset_root_path.glob(\"train/*/*.avi\")))\n",
    "video_count_val = len(list(dataset_root_path.glob(\"val/*/*.avi\")))\n",
    "video_count_test = len(list(dataset_root_path.glob(\"test/*/*.avi\")))\n",
    "video_total = video_count_train + video_count_val + video_count_test\n",
    "print(f\"Total videos: {video_total}\")\n",
    "\n",
    "# 2. Inspect all video paths\n",
    "# NB: there are video clips belonging to the same group/scene where group is denoted by g in the video file paths\n",
    "# v_ApplyEyeMakeup_g07_c04.avi and v_ApplyEyeMakeup_g07_c06.avi, are examples\n",
    "# Careful because for the validation/eval splits, you wouldn’t want to have video clips from the same group\n",
    "# The subset that you are using in this tutorial takes this information into account to prevent leakage\n",
    "all_video_file_paths = (\n",
    "    list(dataset_root_path.glob(\"train/*/*.avi\"))\n",
    "    + list(dataset_root_path.glob(\"val/*/*.avi\"))\n",
    "    + list(dataset_root_path.glob(\"test/*/*.avi\"))\n",
    " )\n",
    "all_video_file_paths[:5]"
   ]
  },
  {
   "cell_type": "code",
   "execution_count": null,
   "id": "c0438b44",
   "metadata": {},
   "outputs": [],
   "source": [
    "# Derive the set of labels present in the dataset\n",
    "# Also, create two dictionaries that’ll be helpful when initializing the model"
   ]
  },
  {
   "cell_type": "markdown",
   "id": "0d45fb8c",
   "metadata": {},
   "source": [
    "- label2id: maps the class names to integers.\n",
    "- id2label: maps the integers to class names"
   ]
  },
  {
   "cell_type": "code",
   "execution_count": null,
   "id": "3490e029",
   "metadata": {},
   "outputs": [],
   "source": [
    "class_labels = sorted({str(path).split(\"/\")[2] for path in all_video_file_paths})\n",
    "label2id = {label: i for i, label in enumerate(class_labels)}\n",
    "id2label = {i: label for label, i in label2id.items()}\n",
    "\n",
    "print(f\"Unique classes: {list(label2id.keys())}.\")\n",
    "# There should be 10 unique classes. For each class, there are 30 videos in the training set."
   ]
  }
 ],
 "metadata": {
  "kernelspec": {
   "display_name": "Python [conda env:nlp]",
   "language": "python",
   "name": "conda-env-nlp-py"
  },
  "language_info": {
   "codemirror_mode": {
    "name": "ipython",
    "version": 3
   },
   "file_extension": ".py",
   "mimetype": "text/x-python",
   "name": "python",
   "nbconvert_exporter": "python",
   "pygments_lexer": "ipython3",
   "version": "3.10.13"
  }
 },
 "nbformat": 4,
 "nbformat_minor": 5
}
