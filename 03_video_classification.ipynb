{
 "cells": [
  {
   "cell_type": "markdown",
   "id": "630e73cd",
   "metadata": {},
   "source": [
    "Video classification is the task of assigning a label or class to an entire video. Videos are expected to have only one class for each video. Video classification models take a video as input and return a prediction about which class the video belongs to. These models can be used to categorize what a video is all about. A real-world application of video classification is action / activity recognition, which is useful for fitness applications. It is also helpful for vision-impaired individuals, or those who happen to be commuting.\n",
    "\n",
    "This guide will show you how to:\n",
    "\n",
    "1. Fine-tune VideoMAE on a subset of the UCF101 dataset.\n",
    "2. Use your fine-tuned model for inference."
   ]
  },
  {
   "cell_type": "markdown",
   "id": "cece18cc",
   "metadata": {},
   "source": [
    "# Libraries"
   ]
  },
  {
   "cell_type": "code",
   "execution_count": 1,
   "id": "78b03d59",
   "metadata": {},
   "outputs": [
    {
     "name": "stdout",
     "output_type": "stream",
     "text": [
      "Note: you may need to restart the kernel to use updated packages.\n"
     ]
    }
   ],
   "source": [
    "pip install -q pytorchvideo transformers evaluate"
   ]
  },
  {
   "cell_type": "code",
   "execution_count": 2,
   "id": "2d98bffe",
   "metadata": {},
   "outputs": [],
   "source": [
    "import tarfile\n",
    "import pathlib\n",
    "import pytorchvideo.data\n",
    "\n",
    "from transformers import VideoMAEImageProcessor, VideoMAEForVideoClassification"
   ]
  },
  {
   "cell_type": "markdown",
   "id": "0c7d3dbf",
   "metadata": {},
   "source": [
    "# Load Data"
   ]
  },
  {
   "cell_type": "code",
   "execution_count": 3,
   "id": "55384fff",
   "metadata": {},
   "outputs": [
    {
     "data": {
      "application/vnd.jupyter.widget-view+json": {
       "model_id": "adce8fd94a23439eb9164fd490a5efe1",
       "version_major": 2,
       "version_minor": 0
      },
      "text/plain": [
       "UCF101_subset.tar.gz:   0%|          | 0.00/171M [00:00<?, ?B/s]"
      ]
     },
     "metadata": {},
     "output_type": "display_data"
    }
   ],
   "source": [
    "from huggingface_hub import hf_hub_download\n",
    "\n",
    "hf_dataset_identifier = \"sayakpaul/ucf101-subset\"\n",
    "filename = \"UCF101_subset.tar.gz\"\n",
    "file_path = hf_hub_download(repo_id=hf_dataset_identifier, filename=filename, repo_type=\"dataset\")"
   ]
  },
  {
   "cell_type": "code",
   "execution_count": 4,
   "id": "7f997ccf",
   "metadata": {},
   "outputs": [],
   "source": [
    "# Extract tarfile after dataset downloaded\n",
    "with tarfile.open(file_path) as t:\n",
    "     t.extractall(\".\")"
   ]
  },
  {
   "cell_type": "markdown",
   "id": "60f04388",
   "metadata": {},
   "source": [
    "From a high-level view, this is how the data are organised:\n",
    "\n",
    "UCF101_subset/\n",
    "    train/\n",
    "        BandMarching/\n",
    "            video_1.mp4\n",
    "            video_2.mp4\n",
    "            ...\n",
    "        Archery\n",
    "            video_1.mp4\n",
    "            video_2.mp4\n",
    "            ...\n",
    "        ...\n",
    "    val/\n",
    "        BandMarching/\n",
    "            video_1.mp4\n",
    "            video_2.mp4\n",
    "            ...\n",
    "        Archery\n",
    "            video_1.mp4\n",
    "            video_2.mp4\n",
    "            ...\n",
    "        ...\n",
    "    test/\n",
    "        BandMarching/\n",
    "            video_1.mp4\n",
    "            video_2.mp4\n",
    "            ...\n",
    "        Archery\n",
    "            video_1.mp4\n",
    "            video_2.mp4\n",
    "            ...\n",
    "        ..."
   ]
  },
  {
   "cell_type": "code",
   "execution_count": 5,
   "id": "eb3073c3",
   "metadata": {},
   "outputs": [
    {
     "name": "stdout",
     "output_type": "stream",
     "text": [
      "Total videos: 405\n"
     ]
    },
    {
     "data": {
      "text/plain": [
       "[PosixPath('UCF101_subset/train/BalanceBeam/v_BalanceBeam_g02_c03.avi'),\n",
       " PosixPath('UCF101_subset/train/BalanceBeam/v_BalanceBeam_g24_c03.avi'),\n",
       " PosixPath('UCF101_subset/train/BalanceBeam/v_BalanceBeam_g12_c04.avi'),\n",
       " PosixPath('UCF101_subset/train/BalanceBeam/v_BalanceBeam_g03_c01.avi'),\n",
       " PosixPath('UCF101_subset/train/BalanceBeam/v_BalanceBeam_g25_c01.avi')]"
      ]
     },
     "execution_count": 5,
     "metadata": {},
     "output_type": "execute_result"
    }
   ],
   "source": [
    "# Gather some metadata about the dataset\n",
    "\n",
    "# 1. Count the number of videos\n",
    "dataset_root_path = \"UCF101_subset\"\n",
    "dataset_root_path = pathlib.Path(dataset_root_path)\n",
    "video_count_train = len(list(dataset_root_path.glob(\"train/*/*.avi\")))\n",
    "video_count_val = len(list(dataset_root_path.glob(\"val/*/*.avi\")))\n",
    "video_count_test = len(list(dataset_root_path.glob(\"test/*/*.avi\")))\n",
    "video_total = video_count_train + video_count_val + video_count_test\n",
    "print(f\"Total videos: {video_total}\")\n",
    "\n",
    "# 2. Inspect all video paths\n",
    "# NB: there are video clips belonging to the same group/scene where group is denoted by g in the video file paths\n",
    "# v_ApplyEyeMakeup_g07_c04.avi and v_ApplyEyeMakeup_g07_c06.avi, are examples\n",
    "# Careful because for the validation/eval splits, you wouldn’t want to have video clips from the same group\n",
    "# The subset that you are using in this tutorial takes this information into account to prevent leakage\n",
    "all_video_file_paths = (\n",
    "    list(dataset_root_path.glob(\"train/*/*.avi\"))\n",
    "    + list(dataset_root_path.glob(\"val/*/*.avi\"))\n",
    "    + list(dataset_root_path.glob(\"test/*/*.avi\"))\n",
    " )\n",
    "all_video_file_paths[:5]"
   ]
  },
  {
   "cell_type": "code",
   "execution_count": 6,
   "id": "836aa1f9",
   "metadata": {},
   "outputs": [],
   "source": [
    "# Derive the set of labels present in the dataset\n",
    "# Also, create two dictionaries that’ll be helpful when initializing the model"
   ]
  },
  {
   "cell_type": "markdown",
   "id": "bd749574",
   "metadata": {},
   "source": [
    "- label2id: maps the class names to integers.\n",
    "- id2label: maps the integers to class names"
   ]
  },
  {
   "cell_type": "code",
   "execution_count": 7,
   "id": "93291959",
   "metadata": {},
   "outputs": [
    {
     "name": "stdout",
     "output_type": "stream",
     "text": [
      "Unique classes: ['ApplyEyeMakeup', 'ApplyLipstick', 'Archery', 'BabyCrawling', 'BalanceBeam', 'BandMarching', 'BaseballPitch', 'Basketball', 'BasketballDunk', 'BenchPress'].\n"
     ]
    }
   ],
   "source": [
    "class_labels = sorted({str(path).split(\"/\")[2] for path in all_video_file_paths})\n",
    "label2id = {label: i for i, label in enumerate(class_labels)}\n",
    "id2label = {i: label for label, i in label2id.items()}\n",
    "\n",
    "print(f\"Unique classes: {list(label2id.keys())}.\")\n",
    "# There should be 10 unique classes. For each class, there are 30 videos in the training set."
   ]
  },
  {
   "cell_type": "markdown",
   "id": "7f296793",
   "metadata": {},
   "source": [
    "# Load Model"
   ]
  },
  {
   "cell_type": "code",
   "execution_count": null,
   "id": "dde282d2",
   "metadata": {},
   "outputs": [],
   "source": [
    "# Instantiate a video classification model from a pretrained checkpoint\n",
    "# The model’s encoder comes with pre-trained parameters, and the classification head is randomly initialised\n",
    "# Image processor will come in handy when writing the preprocessing pipeline\n",
    "\n",
    "model_ckpt = \"MCG-NJU/videomae-base\"\n",
    "image_processor = VideoMAEImageProcessor.from_pretrained(model_ckpt)\n",
    "model = VideoMAEForVideoClassification.from_pretrained(\n",
    "    model_ckpt,\n",
    "    label2id=label2id,\n",
    "    id2label=id2label,\n",
    "    ignore_mismatched_sizes=True,  # provide this in case you're planning to fine-tune an already fine-tuned checkpoint\n",
    ")"
   ]
  },
  {
   "cell_type": "markdown",
   "id": "c7e90c52",
   "metadata": {},
   "source": [
    "# Training"
   ]
  },
  {
   "cell_type": "code",
   "execution_count": null,
   "id": "56a20ca6",
   "metadata": {},
   "outputs": [],
   "source": [
    "# Leverage the PyTorchVideo library for preprocessing\n",
    "\n",
    "# First, import dependencies\n",
    "from pytorchvideo.transforms import (\n",
    "    ApplyTransformToKey,\n",
    "    Normalize,\n",
    "    RandomShortSideScale,\n",
    "    RemoveKey,\n",
    "    ShortSideScale,\n",
    "    UniformTemporalSubsample,\n",
    ")\n",
    "\n",
    "from torchvision.transforms import (\n",
    "    Compose,\n",
    "    Lambda,\n",
    "    RandomCrop,\n",
    "    RandomHorizontalFlip,\n",
    "    Resize,\n",
    ")\n",
    "\n",
    "# Define some constants\n",
    "mean = image_processor.image_mean\n",
    "std = image_processor.image_std\n",
    "if \"shortest_edge\" in image_processor.size:\n",
    "    height = width = image_processor.size[\"shortest_edge\"]\n",
    "else:\n",
    "    height = image_processor.size[\"height\"]\n",
    "    width = image_processor.size[\"width\"]\n",
    "resize_to = (height, width)\n",
    "\n",
    "num_frames_to_sample = model.config.num_frames\n",
    "sample_rate = 4\n",
    "fps = 30\n",
    "clip_duration = num_frames_to_sample * sample_rate / fps\n",
    "\n",
    "# Define the dataset-specific transformations \n",
    "# For the training dataset transformations, use a combination of... \n",
    "# uniform temporal subsampling, pixel normalization, random cropping, and random horizontal flipping\n",
    "train_transform = Compose(\n",
    "    [\n",
    "        ApplyTransformToKey(\n",
    "            key=\"video\",\n",
    "            transform=Compose(\n",
    "                [\n",
    "                    UniformTemporalSubsample(num_frames_to_sample),\n",
    "                    Lambda(lambda x: x / 255.0),\n",
    "                    Normalize(mean, std),\n",
    "                    RandomShortSideScale(min_size=256, max_size=320),\n",
    "                    RandomCrop(resize_to),\n",
    "                    RandomHorizontalFlip(p=0.5),\n",
    "                ]\n",
    "            ),\n",
    "        ),\n",
    "    ]\n",
    ")\n",
    "\n",
    "train_dataset = pytorchvideo.data.Ucf101(\n",
    "    data_path=os.path.join(dataset_root_path, \"train\"),\n",
    "    clip_sampler=pytorchvideo.data.make_clip_sampler(\"random\", clip_duration),\n",
    "    decode_audio=False,\n",
    "    transform=train_transform,\n",
    ")\n",
    "\n",
    "# and the datasets respectively"
   ]
  },
  {
   "cell_type": "markdown",
   "id": "665bd618",
   "metadata": {},
   "source": [
    "# Evaluation"
   ]
  },
  {
   "cell_type": "code",
   "execution_count": null,
   "id": "038bdb63",
   "metadata": {},
   "outputs": [],
   "source": [
    "# Note that this checkpoint leads to better performance on this task\n",
    "# It was obtained fine-tuning on a similar downstream task having considerable domain overlap"
   ]
  }
 ],
 "metadata": {
  "kernelspec": {
   "display_name": "Python [conda env:nlp]",
   "language": "python",
   "name": "conda-env-nlp-py"
  },
  "language_info": {
   "codemirror_mode": {
    "name": "ipython",
    "version": 3
   },
   "file_extension": ".py",
   "mimetype": "text/x-python",
   "name": "python",
   "nbconvert_exporter": "python",
   "pygments_lexer": "ipython3",
   "version": "3.10.13"
  }
 },
 "nbformat": 4,
 "nbformat_minor": 5
}
