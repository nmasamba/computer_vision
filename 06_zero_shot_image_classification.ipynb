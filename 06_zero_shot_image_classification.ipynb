{
 "cells": [
  {
   "cell_type": "markdown",
   "id": "52112531",
   "metadata": {},
   "source": [
    "Zero-shot image classification is a task that involves classifying images into different categories using a model that was not explicitly trained on data containing labeled examples from those specific categories.\n",
    "\n",
    "Traditionally, image classification requires training a model on a specific set of labeled images, and this model learns to “map” certain image features to labels. When there’s a need to use such model for a classification task that introduces a new set of labels, fine-tuning is required to “recalibrate” the model.\n",
    "\n",
    "In contrast, zero-shot or open vocabulary image classification models are typically multi-modal models that have been trained on a large dataset of images and associated descriptions. These models learn aligned vision-language representations that can be used for many downstream tasks including zero-shot image classification.\n",
    "\n",
    "This is a more flexible approach to image classification that allows models to generalize to new and unseen categories without the need for additional training data and enables users to query images with free-form text descriptions of their target objects .\n",
    "\n",
    "In this guide you’ll learn how to:\n",
    "1. create a zero-shot image classification pipeline\n",
    "2. run zero-shot image classification inference by hand"
   ]
  },
  {
   "cell_type": "markdown",
   "id": "ad2058f6",
   "metadata": {},
   "source": [
    "# Libraries"
   ]
  },
  {
   "cell_type": "code",
   "execution_count": null,
   "id": "e61f3049",
   "metadata": {},
   "outputs": [],
   "source": [
    "pip install -q \"transformers[torch]\" pillow"
   ]
  }
 ],
 "metadata": {
  "kernelspec": {
   "display_name": "Python [conda env:nlp]",
   "language": "python",
   "name": "conda-env-nlp-py"
  },
  "language_info": {
   "codemirror_mode": {
    "name": "ipython",
    "version": 3
   },
   "file_extension": ".py",
   "mimetype": "text/x-python",
   "name": "python",
   "nbconvert_exporter": "python",
   "pygments_lexer": "ipython3",
   "version": "3.10.13"
  }
 },
 "nbformat": 4,
 "nbformat_minor": 5
}
